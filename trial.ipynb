{
 "cells": [
  {
   "cell_type": "code",
   "execution_count": 7,
   "metadata": {},
   "outputs": [
    {
     "name": "stdout",
     "output_type": "stream",
     "text": [
      "The shared secret key is: [1, 1]\n"
     ]
    }
   ],
   "source": [
    "import random\n",
    "\n",
    "# Quantum states\n",
    "states = ['0', '1', '+', '-']\n",
    "\n",
    "def bb84():\n",
    "    # Step 1: Alice generates two random bit strings\n",
    "    alice_bits = [random.randint(0, 1) for _ in range(10)]\n",
    "    alice_bases = [states[random.randint(0, 3)] for _ in range(10)]\n",
    "\n",
    "    # Step 2: Alice sends her qubits to Bob\n",
    "    # In a real quantum system, Alice would prepare her qubits here based on alice_bits and alice_bases\n",
    "\n",
    "    # Step 3: Bob measures the qubits\n",
    "    bob_bases = [states[random.randint(0, 3)] for _ in range(10)]\n",
    "    bob_bits = alice_bits  # In a real quantum system, Bob's bits would be the result of his measurements\n",
    "\n",
    "    # Step 4: Alice and Bob reveal their bases\n",
    "    key = []\n",
    "    for i in range(10):\n",
    "        if alice_bases[i] == bob_bases[i]:\n",
    "            key.append(alice_bits[i])\n",
    "\n",
    "    return key\n",
    "\n",
    "key = bb84()\n",
    "print(\"The shared secret key is:\", key)\n"
   ]
  },
  {
   "cell_type": "code",
   "execution_count": 8,
   "metadata": {},
   "outputs": [
    {
     "ename": "AttributeError",
     "evalue": "'int' object has no attribute 'dimension'",
     "output_type": "error",
     "traceback": [
      "\u001b[0;31m---------------------------------------------------------------------------\u001b[0m",
      "\u001b[0;31mAttributeError\u001b[0m                            Traceback (most recent call last)",
      "Cell \u001b[0;32mIn[8], line 36\u001b[0m\n\u001b[1;32m     32\u001b[0m             key\u001b[38;5;241m.\u001b[39mappend(alice_bits[i])\n\u001b[1;32m     34\u001b[0m     \u001b[38;5;28;01mreturn\u001b[39;00m key\n\u001b[0;32m---> 36\u001b[0m key \u001b[38;5;241m=\u001b[39m \u001b[43mbb84\u001b[49m\u001b[43m(\u001b[49m\u001b[43m)\u001b[49m\n\u001b[1;32m     37\u001b[0m \u001b[38;5;28mprint\u001b[39m(\u001b[38;5;124m\"\u001b[39m\u001b[38;5;124mThe shared secret key is:\u001b[39m\u001b[38;5;124m\"\u001b[39m, key)\n",
      "Cell \u001b[0;32mIn[8], line 19\u001b[0m, in \u001b[0;36mbb84\u001b[0;34m()\u001b[0m\n\u001b[1;32m     17\u001b[0m circuit \u001b[38;5;241m=\u001b[39m cirq\u001b[38;5;241m.\u001b[39mCircuit()\n\u001b[1;32m     18\u001b[0m \u001b[38;5;28;01mif\u001b[39;00m alice_bits[i] \u001b[38;5;241m==\u001b[39m \u001b[38;5;241m1\u001b[39m:\n\u001b[0;32m---> 19\u001b[0m     circuit\u001b[38;5;241m.\u001b[39mappend(\u001b[43mcirq\u001b[49m\u001b[38;5;241;43m.\u001b[39;49m\u001b[43mX\u001b[49m\u001b[43m(\u001b[49m\u001b[43malice_bases\u001b[49m\u001b[43m[\u001b[49m\u001b[43mi\u001b[49m\u001b[43m]\u001b[49m\u001b[43m)\u001b[49m)\n\u001b[1;32m     20\u001b[0m \u001b[38;5;28;01mif\u001b[39;00m alice_bases[i] \u001b[38;5;241m==\u001b[39m \u001b[38;5;241m1\u001b[39m:\n\u001b[1;32m     21\u001b[0m     circuit\u001b[38;5;241m.\u001b[39mappend(cirq\u001b[38;5;241m.\u001b[39mH(alice_bases[i]))\n",
      "File \u001b[0;32m~/miniconda3/lib/python3.11/site-packages/cirq/ops/raw_types.py:360\u001b[0m, in \u001b[0;36mGate.__call__\u001b[0;34m(self, *qubits, **kwargs)\u001b[0m\n\u001b[1;32m    359\u001b[0m \u001b[38;5;28;01mdef\u001b[39;00m \u001b[38;5;21m__call__\u001b[39m(\u001b[38;5;28mself\u001b[39m, \u001b[38;5;241m*\u001b[39mqubits: Qid, \u001b[38;5;241m*\u001b[39m\u001b[38;5;241m*\u001b[39mkwargs):\n\u001b[0;32m--> 360\u001b[0m     \u001b[38;5;28;01mreturn\u001b[39;00m \u001b[38;5;28;43mself\u001b[39;49m\u001b[38;5;241;43m.\u001b[39;49m\u001b[43mon\u001b[49m\u001b[43m(\u001b[49m\u001b[38;5;241;43m*\u001b[39;49m\u001b[43mqubits\u001b[49m\u001b[43m)\u001b[49m\n",
      "File \u001b[0;32m~/miniconda3/lib/python3.11/site-packages/cirq/ops/pauli_gates.py:102\u001b[0m, in \u001b[0;36mPauli.on\u001b[0;34m(self, *qubits)\u001b[0m\n\u001b[1;32m     99\u001b[0m     \u001b[38;5;28;01mraise\u001b[39;00m \u001b[38;5;167;01mValueError\u001b[39;00m(\u001b[38;5;124mf\u001b[39m\u001b[38;5;124m'\u001b[39m\u001b[38;5;124mExpected a single qubit, got <\u001b[39m\u001b[38;5;132;01m{\u001b[39;00mqubits\u001b[38;5;132;01m!r}\u001b[39;00m\u001b[38;5;124m>.\u001b[39m\u001b[38;5;124m'\u001b[39m)\n\u001b[1;32m    100\u001b[0m \u001b[38;5;28;01mfrom\u001b[39;00m \u001b[38;5;21;01mcirq\u001b[39;00m\u001b[38;5;21;01m.\u001b[39;00m\u001b[38;5;21;01mops\u001b[39;00m\u001b[38;5;21;01m.\u001b[39;00m\u001b[38;5;21;01mpauli_string\u001b[39;00m \u001b[38;5;28;01mimport\u001b[39;00m SingleQubitPauliStringGateOperation\n\u001b[0;32m--> 102\u001b[0m \u001b[38;5;28;01mreturn\u001b[39;00m \u001b[43mSingleQubitPauliStringGateOperation\u001b[49m\u001b[43m(\u001b[49m\u001b[38;5;28;43mself\u001b[39;49m\u001b[43m,\u001b[49m\u001b[43m \u001b[49m\u001b[43mqubits\u001b[49m\u001b[43m[\u001b[49m\u001b[38;5;241;43m0\u001b[39;49m\u001b[43m]\u001b[49m\u001b[43m)\u001b[49m\n",
      "File \u001b[0;32m~/miniconda3/lib/python3.11/site-packages/cirq/ops/pauli_string.py:1136\u001b[0m, in \u001b[0;36mSingleQubitPauliStringGateOperation.__init__\u001b[0;34m(self, pauli, qubit)\u001b[0m\n\u001b[1;32m   1134\u001b[0m \u001b[38;5;28;01mdef\u001b[39;00m \u001b[38;5;21m__init__\u001b[39m(\u001b[38;5;28mself\u001b[39m, pauli: pauli_gates\u001b[38;5;241m.\u001b[39mPauli, qubit: \u001b[38;5;124m'\u001b[39m\u001b[38;5;124mcirq.Qid\u001b[39m\u001b[38;5;124m'\u001b[39m):\n\u001b[1;32m   1135\u001b[0m     PauliString\u001b[38;5;241m.\u001b[39m\u001b[38;5;21m__init__\u001b[39m(\u001b[38;5;28mself\u001b[39m, qubit_pauli_map\u001b[38;5;241m=\u001b[39m{qubit: pauli})\n\u001b[0;32m-> 1136\u001b[0m     \u001b[43mgate_operation\u001b[49m\u001b[38;5;241;43m.\u001b[39;49m\u001b[43mGateOperation\u001b[49m\u001b[38;5;241;43m.\u001b[39;49m\u001b[38;5;21;43m__init__\u001b[39;49m\u001b[43m(\u001b[49m\u001b[38;5;28;43mself\u001b[39;49m\u001b[43m,\u001b[49m\u001b[43m \u001b[49m\u001b[43mcast\u001b[49m\u001b[43m(\u001b[49m\u001b[43mraw_types\u001b[49m\u001b[38;5;241;43m.\u001b[39;49m\u001b[43mGate\u001b[49m\u001b[43m,\u001b[49m\u001b[43m \u001b[49m\u001b[43mpauli\u001b[49m\u001b[43m)\u001b[49m\u001b[43m,\u001b[49m\u001b[43m \u001b[49m\u001b[43m[\u001b[49m\u001b[43mqubit\u001b[49m\u001b[43m]\u001b[49m\u001b[43m)\u001b[49m\n",
      "File \u001b[0;32m~/miniconda3/lib/python3.11/site-packages/cirq/ops/gate_operation.py:60\u001b[0m, in \u001b[0;36mGateOperation.__init__\u001b[0;34m(self, gate, qubits)\u001b[0m\n\u001b[1;32m     53\u001b[0m \u001b[38;5;28;01mdef\u001b[39;00m \u001b[38;5;21m__init__\u001b[39m(\u001b[38;5;28mself\u001b[39m, gate: \u001b[38;5;124m'\u001b[39m\u001b[38;5;124mcirq.Gate\u001b[39m\u001b[38;5;124m'\u001b[39m, qubits: Sequence[\u001b[38;5;124m'\u001b[39m\u001b[38;5;124mcirq.Qid\u001b[39m\u001b[38;5;124m'\u001b[39m]) \u001b[38;5;241m-\u001b[39m\u001b[38;5;241m>\u001b[39m \u001b[38;5;28;01mNone\u001b[39;00m:\n\u001b[1;32m     54\u001b[0m \u001b[38;5;250m    \u001b[39m\u001b[38;5;124;03m\"\"\"Inits GateOperation.\u001b[39;00m\n\u001b[1;32m     55\u001b[0m \n\u001b[1;32m     56\u001b[0m \u001b[38;5;124;03m    Args:\u001b[39;00m\n\u001b[1;32m     57\u001b[0m \u001b[38;5;124;03m        gate: The gate to apply.\u001b[39;00m\n\u001b[1;32m     58\u001b[0m \u001b[38;5;124;03m        qubits: The qubits to operate on.\u001b[39;00m\n\u001b[1;32m     59\u001b[0m \u001b[38;5;124;03m    \"\"\"\u001b[39;00m\n\u001b[0;32m---> 60\u001b[0m     \u001b[43mgate\u001b[49m\u001b[38;5;241;43m.\u001b[39;49m\u001b[43mvalidate_args\u001b[49m\u001b[43m(\u001b[49m\u001b[43mqubits\u001b[49m\u001b[43m)\u001b[49m\n\u001b[1;32m     61\u001b[0m     \u001b[38;5;28mself\u001b[39m\u001b[38;5;241m.\u001b[39m_gate \u001b[38;5;241m=\u001b[39m gate\n\u001b[1;32m     62\u001b[0m     \u001b[38;5;28mself\u001b[39m\u001b[38;5;241m.\u001b[39m_qubits \u001b[38;5;241m=\u001b[39m \u001b[38;5;28mtuple\u001b[39m(qubits)\n",
      "File \u001b[0;32m~/miniconda3/lib/python3.11/site-packages/cirq/ops/raw_types.py:222\u001b[0m, in \u001b[0;36mGate.validate_args\u001b[0;34m(self, qubits)\u001b[0m\n\u001b[1;32m    205\u001b[0m \u001b[38;5;250m\u001b[39m\u001b[38;5;124;03m\"\"\"Checks if this gate can be applied to the given qubits.\u001b[39;00m\n\u001b[1;32m    206\u001b[0m \n\u001b[1;32m    207\u001b[0m \u001b[38;5;124;03mBy default checks that:\u001b[39;00m\n\u001b[0;32m   (...)\u001b[0m\n\u001b[1;32m    219\u001b[0m \u001b[38;5;124;03m    ValueError: The gate can't be applied to the qubits.\u001b[39;00m\n\u001b[1;32m    220\u001b[0m \u001b[38;5;124;03m\"\"\"\u001b[39;00m\n\u001b[1;32m    221\u001b[0m \u001b[38;5;28;01mif\u001b[39;00m __cirq_debug__\u001b[38;5;241m.\u001b[39mget():\n\u001b[0;32m--> 222\u001b[0m     \u001b[43m_validate_qid_shape\u001b[49m\u001b[43m(\u001b[49m\u001b[38;5;28;43mself\u001b[39;49m\u001b[43m,\u001b[49m\u001b[43m \u001b[49m\u001b[43mqubits\u001b[49m\u001b[43m)\u001b[49m\n",
      "File \u001b[0;32m~/miniconda3/lib/python3.11/site-packages/cirq/ops/raw_types.py:1048\u001b[0m, in \u001b[0;36m_validate_qid_shape\u001b[0;34m(val, qubits)\u001b[0m\n\u001b[1;32m   1043\u001b[0m \u001b[38;5;28;01mif\u001b[39;00m \u001b[38;5;28mlen\u001b[39m(qubits) \u001b[38;5;241m!=\u001b[39m \u001b[38;5;28mlen\u001b[39m(qid_shape):\n\u001b[1;32m   1044\u001b[0m     \u001b[38;5;28;01mraise\u001b[39;00m \u001b[38;5;167;01mValueError\u001b[39;00m(\n\u001b[1;32m   1045\u001b[0m         \u001b[38;5;124mf\u001b[39m\u001b[38;5;124m'\u001b[39m\u001b[38;5;124mWrong number of qubits for <\u001b[39m\u001b[38;5;132;01m{\u001b[39;00mval\u001b[38;5;132;01m!r}\u001b[39;00m\u001b[38;5;124m>. \u001b[39m\u001b[38;5;124m'\u001b[39m\n\u001b[1;32m   1046\u001b[0m         \u001b[38;5;124mf\u001b[39m\u001b[38;5;124m'\u001b[39m\u001b[38;5;124mExpected \u001b[39m\u001b[38;5;132;01m{\u001b[39;00m\u001b[38;5;28mlen\u001b[39m(qid_shape)\u001b[38;5;132;01m}\u001b[39;00m\u001b[38;5;124m qubits but got <\u001b[39m\u001b[38;5;132;01m{\u001b[39;00mqubits\u001b[38;5;132;01m!r}\u001b[39;00m\u001b[38;5;124m>.\u001b[39m\u001b[38;5;124m'\u001b[39m\n\u001b[1;32m   1047\u001b[0m     )\n\u001b[0;32m-> 1048\u001b[0m \u001b[38;5;28;01mif\u001b[39;00m \u001b[38;5;28;43many\u001b[39;49m\u001b[43m(\u001b[49m\u001b[43mqid\u001b[49m\u001b[38;5;241;43m.\u001b[39;49m\u001b[43mdimension\u001b[49m\u001b[43m \u001b[49m\u001b[38;5;241;43m!=\u001b[39;49m\u001b[43m \u001b[49m\u001b[43mdimension\u001b[49m\u001b[43m \u001b[49m\u001b[38;5;28;43;01mfor\u001b[39;49;00m\u001b[43m \u001b[49m\u001b[43mqid\u001b[49m\u001b[43m,\u001b[49m\u001b[43m \u001b[49m\u001b[43mdimension\u001b[49m\u001b[43m \u001b[49m\u001b[38;5;129;43;01min\u001b[39;49;00m\u001b[43m \u001b[49m\u001b[38;5;28;43mzip\u001b[39;49m\u001b[43m(\u001b[49m\u001b[43mqubits\u001b[49m\u001b[43m,\u001b[49m\u001b[43m \u001b[49m\u001b[43mqid_shape\u001b[49m\u001b[43m)\u001b[49m\u001b[43m)\u001b[49m:\n\u001b[1;32m   1049\u001b[0m     \u001b[38;5;28;01mraise\u001b[39;00m \u001b[38;5;167;01mValueError\u001b[39;00m(\n\u001b[1;32m   1050\u001b[0m         \u001b[38;5;124mf\u001b[39m\u001b[38;5;124m'\u001b[39m\u001b[38;5;124mWrong shape of qids for <\u001b[39m\u001b[38;5;132;01m{\u001b[39;00mval\u001b[38;5;132;01m!r}\u001b[39;00m\u001b[38;5;124m>. \u001b[39m\u001b[38;5;124m'\u001b[39m\n\u001b[1;32m   1051\u001b[0m         \u001b[38;5;124mf\u001b[39m\u001b[38;5;124m'\u001b[39m\u001b[38;5;124mExpected \u001b[39m\u001b[38;5;132;01m{\u001b[39;00mqid_shape\u001b[38;5;132;01m}\u001b[39;00m\u001b[38;5;124m but got \u001b[39m\u001b[38;5;132;01m{\u001b[39;00m\u001b[38;5;28mtuple\u001b[39m(qid\u001b[38;5;241m.\u001b[39mdimension\u001b[38;5;250m \u001b[39m\u001b[38;5;28;01mfor\u001b[39;00m\u001b[38;5;250m \u001b[39mqid\u001b[38;5;250m \u001b[39m\u001b[38;5;129;01min\u001b[39;00m\u001b[38;5;250m \u001b[39mqubits)\u001b[38;5;132;01m}\u001b[39;00m\u001b[38;5;124m <\u001b[39m\u001b[38;5;132;01m{\u001b[39;00mqubits\u001b[38;5;132;01m!r}\u001b[39;00m\u001b[38;5;124m>.\u001b[39m\u001b[38;5;124m'\u001b[39m\n\u001b[1;32m   1052\u001b[0m     )\n\u001b[1;32m   1053\u001b[0m \u001b[38;5;28;01mif\u001b[39;00m \u001b[38;5;28mlen\u001b[39m(\u001b[38;5;28mset\u001b[39m(qubits)) \u001b[38;5;241m!=\u001b[39m \u001b[38;5;28mlen\u001b[39m(qubits):\n",
      "File \u001b[0;32m~/miniconda3/lib/python3.11/site-packages/cirq/ops/raw_types.py:1048\u001b[0m, in \u001b[0;36m<genexpr>\u001b[0;34m(.0)\u001b[0m\n\u001b[1;32m   1043\u001b[0m \u001b[38;5;28;01mif\u001b[39;00m \u001b[38;5;28mlen\u001b[39m(qubits) \u001b[38;5;241m!=\u001b[39m \u001b[38;5;28mlen\u001b[39m(qid_shape):\n\u001b[1;32m   1044\u001b[0m     \u001b[38;5;28;01mraise\u001b[39;00m \u001b[38;5;167;01mValueError\u001b[39;00m(\n\u001b[1;32m   1045\u001b[0m         \u001b[38;5;124mf\u001b[39m\u001b[38;5;124m'\u001b[39m\u001b[38;5;124mWrong number of qubits for <\u001b[39m\u001b[38;5;132;01m{\u001b[39;00mval\u001b[38;5;132;01m!r}\u001b[39;00m\u001b[38;5;124m>. \u001b[39m\u001b[38;5;124m'\u001b[39m\n\u001b[1;32m   1046\u001b[0m         \u001b[38;5;124mf\u001b[39m\u001b[38;5;124m'\u001b[39m\u001b[38;5;124mExpected \u001b[39m\u001b[38;5;132;01m{\u001b[39;00m\u001b[38;5;28mlen\u001b[39m(qid_shape)\u001b[38;5;132;01m}\u001b[39;00m\u001b[38;5;124m qubits but got <\u001b[39m\u001b[38;5;132;01m{\u001b[39;00mqubits\u001b[38;5;132;01m!r}\u001b[39;00m\u001b[38;5;124m>.\u001b[39m\u001b[38;5;124m'\u001b[39m\n\u001b[1;32m   1047\u001b[0m     )\n\u001b[0;32m-> 1048\u001b[0m \u001b[38;5;28;01mif\u001b[39;00m \u001b[38;5;28many\u001b[39m(\u001b[43mqid\u001b[49m\u001b[38;5;241;43m.\u001b[39;49m\u001b[43mdimension\u001b[49m \u001b[38;5;241m!=\u001b[39m dimension \u001b[38;5;28;01mfor\u001b[39;00m qid, dimension \u001b[38;5;129;01min\u001b[39;00m \u001b[38;5;28mzip\u001b[39m(qubits, qid_shape)):\n\u001b[1;32m   1049\u001b[0m     \u001b[38;5;28;01mraise\u001b[39;00m \u001b[38;5;167;01mValueError\u001b[39;00m(\n\u001b[1;32m   1050\u001b[0m         \u001b[38;5;124mf\u001b[39m\u001b[38;5;124m'\u001b[39m\u001b[38;5;124mWrong shape of qids for <\u001b[39m\u001b[38;5;132;01m{\u001b[39;00mval\u001b[38;5;132;01m!r}\u001b[39;00m\u001b[38;5;124m>. \u001b[39m\u001b[38;5;124m'\u001b[39m\n\u001b[1;32m   1051\u001b[0m         \u001b[38;5;124mf\u001b[39m\u001b[38;5;124m'\u001b[39m\u001b[38;5;124mExpected \u001b[39m\u001b[38;5;132;01m{\u001b[39;00mqid_shape\u001b[38;5;132;01m}\u001b[39;00m\u001b[38;5;124m but got \u001b[39m\u001b[38;5;132;01m{\u001b[39;00m\u001b[38;5;28mtuple\u001b[39m(qid\u001b[38;5;241m.\u001b[39mdimension\u001b[38;5;250m \u001b[39m\u001b[38;5;28;01mfor\u001b[39;00m\u001b[38;5;250m \u001b[39mqid\u001b[38;5;250m \u001b[39m\u001b[38;5;129;01min\u001b[39;00m\u001b[38;5;250m \u001b[39mqubits)\u001b[38;5;132;01m}\u001b[39;00m\u001b[38;5;124m <\u001b[39m\u001b[38;5;132;01m{\u001b[39;00mqubits\u001b[38;5;132;01m!r}\u001b[39;00m\u001b[38;5;124m>.\u001b[39m\u001b[38;5;124m'\u001b[39m\n\u001b[1;32m   1052\u001b[0m     )\n\u001b[1;32m   1053\u001b[0m \u001b[38;5;28;01mif\u001b[39;00m \u001b[38;5;28mlen\u001b[39m(\u001b[38;5;28mset\u001b[39m(qubits)) \u001b[38;5;241m!=\u001b[39m \u001b[38;5;28mlen\u001b[39m(qubits):\n",
      "\u001b[0;31mAttributeError\u001b[0m: 'int' object has no attribute 'dimension'"
     ]
    }
   ],
   "source": [
    "import cirq\n",
    "import random\n",
    "\n",
    "# Quantum states\n",
    "zero = cirq.NamedQubit('0')\n",
    "one = cirq.NamedQubit('1')\n",
    "\n",
    "def bb84():\n",
    "    # Step 1: Alice generates two random bit strings\n",
    "    alice_bits = [random.randint(0, 1) for _ in range(10)]\n",
    "    alice_bases = [random.randint(0, 1) for _ in range(10)]\n",
    "\n",
    "    # Step 2: Alice sends her qubits to Bob\n",
    "    # In a real quantum system, Alice would prepare her qubits here based on alice_bits and alice_bases\n",
    "    alice_qubits = []\n",
    "    for i in range(10):\n",
    "        circuit = cirq.Circuit()\n",
    "        if alice_bits[i] == 1:\n",
    "            circuit.append(cirq.X(alice_bases[i]))\n",
    "        if alice_bases[i] == 1:\n",
    "            circuit.append(cirq.H(alice_bases[i]))\n",
    "        alice_qubits.append(circuit)\n",
    "\n",
    "    # Step 3: Bob measures the qubits\n",
    "    bob_bases = [random.randint(0, 1) for _ in range(10)]\n",
    "    bob_bits = alice_bits  # In a real quantum system, Bob's bits would be the result of his measurements\n",
    "\n",
    "    # Step 4: Alice and Bob reveal their bases\n",
    "    key = []\n",
    "    for i in range(10):\n",
    "        if alice_bases[i] == bob_bases[i]:\n",
    "            key.append(alice_bits[i])\n",
    "\n",
    "    return key\n",
    "\n",
    "key = bb84()\n",
    "print(\"The shared secret key is:\", key)\n"
   ]
  },
  {
   "cell_type": "code",
   "execution_count": 9,
   "metadata": {},
   "outputs": [
    {
     "ename": "KeyError",
     "evalue": "0",
     "output_type": "error",
     "traceback": [
      "\u001b[0;31m---------------------------------------------------------------------------\u001b[0m",
      "\u001b[0;31mKeyError\u001b[0m                                  Traceback (most recent call last)",
      "Cell \u001b[0;32mIn[9], line 41\u001b[0m\n\u001b[1;32m     39\u001b[0m \u001b[38;5;28;01mfor\u001b[39;00m i \u001b[38;5;129;01min\u001b[39;00m \u001b[38;5;28mrange\u001b[39m(\u001b[38;5;241m10\u001b[39m):\n\u001b[1;32m     40\u001b[0m     \u001b[38;5;28;01mif\u001b[39;00m alice_bases[i] \u001b[38;5;241m==\u001b[39m bob_bases[i]:\n\u001b[0;32m---> 41\u001b[0m         key\u001b[38;5;241m.\u001b[39mappend(\u001b[43mresult\u001b[49m\u001b[38;5;241;43m.\u001b[39;49m\u001b[43mmeasurements\u001b[49m\u001b[43m[\u001b[49m\u001b[43mi\u001b[49m\u001b[43m]\u001b[49m[\u001b[38;5;241m0\u001b[39m])\n\u001b[1;32m     43\u001b[0m \u001b[38;5;28mprint\u001b[39m(\u001b[38;5;124m\"\u001b[39m\u001b[38;5;124mThe shared secret key is:\u001b[39m\u001b[38;5;124m\"\u001b[39m, key)\n",
      "\u001b[0;31mKeyError\u001b[0m: 0"
     ]
    }
   ],
   "source": [
    "import cirq\n",
    "import random\n",
    "\n",
    "# Define the qubits\n",
    "qubits = [cirq.LineQubit(i) for i in range(10)]\n",
    "\n",
    "# Step 1: Alice generates two random bit strings\n",
    "alice_bits = [random.randint(0, 1) for _ in range(10)]\n",
    "alice_bases = [random.randint(0, 1) for _ in range(10)]\n",
    "\n",
    "# Step 2: Alice prepares her qubits\n",
    "alice_circuit = cirq.Circuit()\n",
    "for i in range(10):\n",
    "    if alice_bits[i] == 1:\n",
    "        alice_circuit.append(cirq.X(qubits[i]))\n",
    "    if alice_bases[i] == 1:\n",
    "        alice_circuit.append(cirq.H(qubits[i]))\n",
    "\n",
    "# Step 3: Alice sends her qubits to Bob\n",
    "# In a real quantum system, Alice would send her qubits to Bob over a quantum channel\n",
    "\n",
    "# Step 4: Bob measures the qubits\n",
    "bob_bases = [random.randint(0, 1) for _ in range(10)]\n",
    "bob_circuit = cirq.Circuit()\n",
    "for i in range(10):\n",
    "    if bob_bases[i] == 1:\n",
    "        bob_circuit.append(cirq.H(qubits[i]))\n",
    "    bob_circuit.append(cirq.measure(qubits[i]))\n",
    "\n",
    "# Combine Alice and Bob's circuit\n",
    "circuit = alice_circuit + bob_circuit\n",
    "\n",
    "# Simulate the circuit\n",
    "simulator = cirq.Simulator()\n",
    "result = simulator.run(circuit)\n",
    "\n",
    "# Step 5: Alice and Bob reveal their bases\n",
    "key = []\n",
    "for i in range(10):\n",
    "    if alice_bases[i] == bob_bases[i]:\n",
    "        key.append(result.measurements[i][0])\n",
    "\n",
    "print(\"The shared secret key is:\", key)\n"
   ]
  }
 ],
 "metadata": {
  "kernelspec": {
   "display_name": "base",
   "language": "python",
   "name": "python3"
  },
  "language_info": {
   "codemirror_mode": {
    "name": "ipython",
    "version": 3
   },
   "file_extension": ".py",
   "mimetype": "text/x-python",
   "name": "python",
   "nbconvert_exporter": "python",
   "pygments_lexer": "ipython3",
   "version": "3.11.6"
  }
 },
 "nbformat": 4,
 "nbformat_minor": 2
}
