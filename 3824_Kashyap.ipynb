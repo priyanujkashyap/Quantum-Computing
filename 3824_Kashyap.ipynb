{
 "cells": [
  {
   "cell_type": "markdown",
   "metadata": {},
   "source": [
    "# QXQ YLC 2024 Capstone Project\n",
    "<ul>\n",
    "<li>by Priyanuj Kashyap</li>\n",
    "<li>Student ID: 3824_Kashyap</li>\n",
    "</ul>"
   ]
  },
  {
   "cell_type": "markdown",
   "metadata": {},
   "source": [
    "## Introduction:\n",
    "The two functions were built on the concept of BB84 Protocol for Quantum Key Distribution. The considerations take while the building the functions were.\n",
    "<ol>\n",
    "<li>The focus was put on the concept of BB84 Protocol and has been kept simple to understand.</li>\n",
    "<li>Focus was also put into how an encrypted message can be shared and then decrypted on the other end.</li>\n",
    "<li>The binary of the messages also have been shown to display how the message is encrypted and decrypted.</li>\n",
    "</ol>\n"
   ]
  },
  {
   "cell_type": "markdown",
   "metadata": {},
   "source": [
    "## Code Snippets"
   ]
  },
  {
   "cell_type": "code",
   "execution_count": 1,
   "metadata": {},
   "outputs": [],
   "source": [
    "import cirq\n",
    "from random import choices\n",
    "\n",
    "def QKD(num_bits):\n",
    "\n",
    "  #Setup\n",
    "  encode_gates = {0: cirq.I, 1: cirq.X}\n",
    "  basis_gates = {'Z': cirq.I, 'X': cirq.H}\n",
    "\n",
    "  qubits = cirq.NamedQubit.range(num_bits, prefix = 'q')\n",
    "\n",
    "  #Alice Chooses Bits and Bases\n",
    "  alice_key = choices([0, 1], k = num_bits)\n",
    "  alice_bases = choices(['Z', 'X'], k = num_bits)\n",
    "\n",
    "  #Alice Creates Qubits\n",
    "  alice_circuit = cirq.Circuit()\n",
    "\n",
    "  for bit in range(num_bits):\n",
    "\n",
    "    encode_value = alice_key[bit]\n",
    "    encode_gate = encode_gates[encode_value]\n",
    "\n",
    "    basis_value = alice_bases[bit]\n",
    "    basis_gate = basis_gates[basis_value]\n",
    "\n",
    "    qubit = qubits[bit]\n",
    "    alice_circuit.append(encode_gate(qubit))\n",
    "    alice_circuit.append(basis_gate(qubit))\n",
    "\n",
    "  #Bob chooses a Bases\n",
    "  bob_bases = choices(['Z', 'X'], k = num_bits)\n",
    "\n",
    "  bob_circuit = cirq.Circuit()\n",
    "\n",
    "  for bit in range(num_bits):\n",
    "\n",
    "    basis_value = bob_bases[bit]\n",
    "    basis_gate = basis_gates[basis_value]\n",
    "\n",
    "    qubit = qubits[bit]\n",
    "    bob_circuit.append(basis_gate(qubit))\n",
    "\n",
    "  #Bob Measures Qubits\n",
    "  bob_circuit.append(cirq.measure(qubits, key = 'bob key'))\n",
    "\n",
    "  #Bob Creates a Key\n",
    "  bb84_circuit = alice_circuit + bob_circuit\n",
    "\n",
    "  sim = cirq.Simulator()\n",
    "  results = sim.run(bb84_circuit)\n",
    "  bob_key = results.measurements['bob key'][0]\n",
    "\n",
    "  final_alice_key = []\n",
    "  final_bob_key = []\n",
    "\n",
    "  #Compare Bases\n",
    "  for bit in range(num_bits):\n",
    "\n",
    "    if alice_bases[bit] == bob_bases[bit]:\n",
    "      final_alice_key.append(alice_key[bit])\n",
    "      final_bob_key.append(bob_key[bit])\n",
    "\n",
    "  #Compare Half their Bits\n",
    "  num_bits_to_compare = int(len(final_alice_key) * .5)\n",
    "  if final_alice_key[0:num_bits_to_compare] == final_bob_key[0:num_bits_to_compare]:\n",
    "    final_alice_key = final_alice_key[num_bits_to_compare:]\n",
    "    final_bob_key = final_bob_key[num_bits_to_compare:]\n",
    "\n",
    "    print('Alice Key: ', final_alice_key)\n",
    "    print('Bob Key: ', final_bob_key)\n",
    "\n",
    "  else:\n",
    "    print('\\n\\nEve was listening, we need to use a different channel!')"
   ]
  },
  {
   "cell_type": "code",
   "execution_count": 2,
   "metadata": {},
   "outputs": [],
   "source": [
    "#Message\n",
    "unencrypted_string='Priyanuj'"
   ]
  },
  {
   "cell_type": "code",
   "execution_count": 17,
   "metadata": {},
   "outputs": [
    {
     "name": "stdout",
     "output_type": "stream",
     "text": [
      "Alice Key:  [0, 1, 0, 1, 0, 0, 0, 1, 1, 0, 1, 0, 0, 0, 1, 0, 1, 1, 1, 1, 0, 1, 1, 1, 0, 1, 1, 1, 0, 1, 1, 1, 0, 1, 0, 1, 0, 0, 1, 0, 1, 0, 1, 1, 1, 1, 1, 1, 0, 1, 1, 1, 1, 0, 0, 0, 1, 1, 1, 0, 1]\n",
      "Bob Key:  [0, 1, 0, 1, 0, 0, 0, 1, 1, 0, 1, 0, 0, 0, 1, 0, 1, 1, 1, 1, 0, 1, 1, 1, 0, 1, 1, 1, 0, 1, 1, 1, 0, 1, 0, 1, 0, 0, 1, 0, 1, 0, 1, 1, 1, 1, 1, 1, 0, 1, 1, 1, 1, 0, 0, 0, 1, 1, 1, 0, 1]\n"
     ]
    }
   ],
   "source": [
    "#Keys\n",
    "QKD(216)"
   ]
  },
  {
   "cell_type": "code",
   "execution_count": 4,
   "metadata": {},
   "outputs": [],
   "source": [
    "#Encrypt Message\n",
    "def encrypt(final_alice_key):\n",
    "  binary_message = ''.join(format(ord(i), '08b') for i in unencrypted_string)\n",
    "  key = ''.join(map(str,final_alice_key))\n",
    "  encrypted_message = int((binary_message), 2) ^ int(key[:len(binary_message)], 2)\n",
    "  encrypted_message = format(encrypted_message, '0' + str(len(binary_message)) + 'b')\n",
    "  encrypted_string = ''.join(chr(int(encrypted_message[i:i+8], 2)) for i in range(0, len(encrypted_message), 8))\n",
    "  print('Encrypted Message in Binary:',encrypted_message)\n",
    "  print('Encrypted Message:',encrypted_string)"
   ]
  },
  {
   "cell_type": "code",
   "execution_count": 27,
   "metadata": {},
   "outputs": [
    {
     "name": "stdout",
     "output_type": "stream",
     "text": [
      "Encrypted Message in Binary: 0101101001000110001101111001011110001011001110011001101001110111\n",
      "Encrypted Message: ZF79w\n"
     ]
    }
   ],
   "source": [
    "encrypt([0, 1, 0, 1, 0, 0, 0, 1, 1, 0, 1, 0, 0, 0, 1, 0, 1, 1, 1, 1, 0, 1, 1, 1, 0, 1, 1, 1, 0, 1, 1, 1, 0, 1, 0, 1, 0, 0, 1, 0, 1, 0, 1, 1, 1, 1, 1, 1, 0, 1, 1, 1, 1, 0, 0, 0, 1, 1, 1, 0, 1])"
   ]
  },
  {
   "cell_type": "code",
   "execution_count": 28,
   "metadata": {},
   "outputs": [],
   "source": [
    "#Decrypt Message\n",
    "def decrypt(encrypted_string,final_bob_key):\n",
    "  binary_encrypted_message = ''.join(format(ord(i), '08b') for i in encrypted_string)\n",
    "  key = ''.join(map(str,final_bob_key))\n",
    "  decrypted_message = int(binary_encrypted_message, 2) ^ int(key[:len(binary_encrypted_message)], 2)\n",
    "  decrypted_message = format(decrypted_message, '0' + str(len(binary_encrypted_message)) + 'b')\n",
    "  print('Decrypted Message in Binary:',decrypted_message)\n",
    "  decrypted_message = ''.join(chr(int(decrypted_message[i:i+8], 2)) for i in range(0, len(decrypted_message), 8))\n",
    "  print('Decrypted Message:',decrypted_message)"
   ]
  },
  {
   "cell_type": "code",
   "execution_count": 29,
   "metadata": {},
   "outputs": [
    {
     "name": "stdout",
     "output_type": "stream",
     "text": [
      "Decrypted Message in Binary: 0101000001110010011010010111100101100001011011100111010101101010\n",
      "Decrypted Message: Priyanuj\n"
     ]
    }
   ],
   "source": [
    "decrypt('ZF79w',[0, 1, 0, 1, 0, 0, 0, 1, 1, 0, 1, 0, 0, 0, 1, 0, 1, 1, 1, 1, 0, 1, 1, 1, 0, 1, 1, 1, 0, 1, 1, 1, 0, 1, 0, 1, 0, 0, 1, 0, 1, 0, 1, 1, 1, 1, 1, 1, 0, 1, 1, 1, 1, 0, 0, 0, 1, 1, 1, 0, 1])"
   ]
  },
  {
   "cell_type": "markdown",
   "metadata": {},
   "source": [
    "## Analysis\n",
    "\n",
    "In the BB84 Quantum Key Distribution (QKD) protocol, an eavesdropper, often referred to as Eve, can significantly affect the communication between Alice (the sender) and Bob (the receiver):\n",
    "<ol>\n",
    "<li> Intercept and Resend: One common strategy for eavesdropping is the intercept-and-resend attack. In this strategy, Eve intercepts the quantum bit (qubit) sent by Alice, measures it, and then sends a new qubit to Bob. However, due to the principles of quantum mechanics, this interception and measurement inevitably disturb the qubit and increase the quantum bit error rate (QBER). </li>\n",
    "\n",
    "<li> Detection: The disturbance caused by Eve's interception can be detected by Alice and Bob when they compare a subset of their keys over a public channel. If the error rate exceeds a certain threshold, they know an eavesdropper is present. This is because it's impossible to distinguish between the errors caused by an eavesdropper and the errors produced by imperfections of the optical channel and optoelectronic devices.</li>\n",
    "\n",
    "<li> Security: The security of the BB84 protocol is based on the fact that any attempt to gain information about the key by Eve will introduce detectable anomalies. Therefore, if Alice and Bob detect a higher error rate, they can abort the key and start a new communication.</li>\n",
    "\n",
    "<li> Noise: It's important to note that in practical realizations, a QKD protocol is only secure when the QBER introduced by an eavesdropper unavoidably exceeds the system error rate. This condition guarantees that an eavesdropper cannot disguise her presence by simply replacing the original transmission line with a less faulty one.</li>\n",
    "</ol>\n",
    "\n",
    "So, while an eavesdropper can attempt to gain information during the quantum communication, the principles of quantum mechanics used in the BB84 protocol allow Alice and Bob to detect and mitigate such attempts"
   ]
  },
  {
   "cell_type": "markdown",
   "metadata": {},
   "source": [
    "## Conclusion\n",
    "The development of quantum encryption is crucial for the future of secure communication for several reasons:\n",
    "<ol>\n",
    "<li>Quantum Computing Threat: Quantum computers have the potential to break widely used encryption methods, rendering much of today’s secure communication vulnerable. This is because quantum computers could, in theory, factor incredibly large numbers efficiently, which could compromise the security of widely used encryption methods like RSA.</li>\n",
    "<li>Quantum-Safe Cryptography: To counter this threat, researchers are developing quantum-safe cryptography, also known as post-quantum or quantum-proof cryptography. These new encryption methods aim to be secure against both classical and quantum computers.</li>\n",
    "<li>Secure Key Distribution: Quantum Key Distribution (QKD) offers a potential solution to the challenges faced by traditional encryption methods. QKD uses the laws of physics to generate and distribute secure keys, making undetected eavesdropping impossible.</li>\n",
    "</ol>"
   ]
  }
 ],
 "metadata": {
  "kernelspec": {
   "display_name": "base",
   "language": "python",
   "name": "python3"
  },
  "language_info": {
   "codemirror_mode": {
    "name": "ipython",
    "version": 3
   },
   "file_extension": ".py",
   "mimetype": "text/x-python",
   "name": "python",
   "nbconvert_exporter": "python",
   "pygments_lexer": "ipython3",
   "version": "3.12.3"
  }
 },
 "nbformat": 4,
 "nbformat_minor": 2
}
